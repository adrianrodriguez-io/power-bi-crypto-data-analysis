{
 "cells": [
  {
   "cell_type": "markdown",
   "id": "6c1cb5ee",
   "metadata": {},
   "source": [
    "#Ingest and load python jupyter notebook script\n",
    "\n",
    "1. Imports\n",
    "2. Currency pairs data\n",
    "3. Trading dates (from, to)\n",
    "4. OHLC trades data. "
   ]
  },
  {
   "cell_type": "code",
   "execution_count": null,
   "id": "6472156e",
   "metadata": {},
   "outputs": [],
   "source": [
    "#1.Imports"
   ]
  },
  {
   "cell_type": "code",
   "execution_count": 115,
   "id": "8d502a41",
   "metadata": {},
   "outputs": [],
   "source": [
    "import requests\n",
    "import json\n",
    "import numpy as np\n",
    "import pandas as pd\n",
    "import datetime\n",
    "from datetime import date\n",
    "from datetime import datetime as dt"
   ]
  },
  {
   "cell_type": "code",
   "execution_count": 116,
   "id": "18c0a819",
   "metadata": {},
   "outputs": [],
   "source": [
    "#2. Currency pairs data"
   ]
  },
  {
   "cell_type": "code",
   "execution_count": 292,
   "id": "20b85a97",
   "metadata": {},
   "outputs": [
    {
     "name": "stdout",
     "output_type": "stream",
     "text": [
      "    currency  indexvertex\n",
      "0      1INCH            1\n",
      "2       AAVE            2\n",
      "8        ACA            3\n",
      "10       ACH            4\n",
      "12       ADA            5\n",
      "..       ...          ...\n",
      "626      ZRX          213\n",
      "64       JPY           96\n",
      "172      AED            7\n",
      "174      CHF           44\n",
      "182      CAD           41\n",
      "\n",
      "[213 rows x 2 columns]\n"
     ]
    }
   ],
   "source": [
    "tradableassetpairs = 'https://api.kraken.com/0/public/AssetPairs'\n",
    "response_pairs = requests.get(tradableassetpairs)\n",
    "data = response_pairs.text\n",
    "json_pairs = json.loads(data)\n",
    "pairs = json_pairs['result']\n",
    "dataframe_pairs = pd.DataFrame(columns=('altname','wsname','indexofslash','from','to','quote')) #,'indexvertex'))\n",
    "dataframe_currencies = pd.DataFrame(columns=('currency','indexvertex'))    \n",
    "\n",
    "#print(pairs)\n",
    "\n",
    "i = 0\n",
    "m = 1\n",
    "\n",
    "for pair in pairs.values():\n",
    "\n",
    "    indexofslash = pair.get('wsname').index('/')        \n",
    "    \n",
    "    dataframe_pairs.loc[i] = pair.get('altname'),pair.get('wsname'),indexofslash,pair.get('wsname')[:indexofslash],pair.get('wsname')[indexofslash+1:],pair.get('quote')\n",
    "    i = i + 1\n",
    "    \n",
    "        \n",
    "dataframe_currencies['currency'] = pd.concat([dataframe_pairs['from'],dataframe_pairs['to']])\n",
    "\n",
    "dataframe_currencies = dataframe_currencies.drop_duplicates()\n",
    "\n",
    "dataframe_currencies['indexvertex'] = dataframe_currencies['currency'].rank(method='dense').astype('int')\n",
    "\n",
    "dataframe_currencies.reset_index(drop=True)\n",
    "\n",
    "#print(dataframe_currencies)\n",
    "\n",
    "dataframe_currencies.to_csv('vertexs.csv',index=False)\n",
    "\n",
    "#print(union)\n",
    "    \n",
    "dataframe_pairs['indexvertexfrom'] = pd.merge(dataframe_pairs,union, how='left',left_on=['from'], right_on=['currency'])['indexvertex']\n",
    "\n",
    "dataframe_pairs['indexvertexto'] = pd.merge(dataframe_pairs,union, how='left',left_on=['to'], right_on=['currency'])['indexvertex']\n",
    "\n",
    "#Row count\n",
    "#print('Row counts (currency pairs): '+str(len(dataframe_pairs.index)))\n",
    "\n",
    "#Filter array_pairs by quote (ZUSD, ZEUR, ZAUD, ZGBP)\n",
    "#quotefilter = 'ZAUD'\n",
    "#array_pairs = dataframe_pairs.loc[array_pairs['quote'] == quotefilter]\n",
    "\n",
    "#Print DataFrame\n",
    "#print(dataframe_pairs)\n",
    "\n",
    "#Save array_pairs dataframe into csv\n",
    "dataframe_pairs.to_csv('currencypairs.csv',index=False)\n",
    "    "
   ]
  },
  {
   "cell_type": "code",
   "execution_count": 290,
   "id": "461bf3af",
   "metadata": {},
   "outputs": [],
   "source": [
    "#3.Trading dates (from, to)"
   ]
  },
  {
   "cell_type": "code",
   "execution_count": 274,
   "id": "566de8d7",
   "metadata": {},
   "outputs": [
    {
     "name": "stdout",
     "output_type": "stream",
     "text": [
      "Date From: 2022-09-21 00:00:00, Date To: 2022-09-23\n"
     ]
    }
   ],
   "source": [
    "#current date\n",
    "start_date = str(date.today())\n",
    "#Set days back for retrieving trades data\n",
    "days_minus = 0 #1 days back\n",
    "\n",
    "date_formated = datetime.datetime.strptime(start_date, \"%Y-%m-%d\")\n",
    "\n",
    "#get days ago date_formated\n",
    "end_date = date_formated - datetime.timedelta(days=days_minus)\n",
    "\n",
    "#print end_date unix timestamp\n",
    "#print(end_date.timestamp())\n",
    "end_date_unixtimestamp = end_date.timestamp()\n",
    "\n",
    "print('Date From: '+str(end_date)+', Date To: '+str(start_date))"
   ]
  },
  {
   "cell_type": "code",
   "execution_count": null,
   "id": "b0d07281",
   "metadata": {},
   "outputs": [],
   "source": [
    "#4. OHLC trades data."
   ]
  },
  {
   "cell_type": "code",
   "execution_count": 276,
   "id": "acfc7f51",
   "metadata": {},
   "outputs": [
    {
     "name": "stdout",
     "output_type": "stream",
     "text": [
      "       from  indexvertexfrom   to  indexvertexto   altname unixtimestamp  \\\n",
      "0     1INCH                1  EUR             68  1INCHEUR    1663718400   \n",
      "1     1INCH                1  EUR             68  1INCHEUR    1663804800   \n",
      "2     1INCH                1  EUR             68  1INCHEUR    1663891200   \n",
      "3     1INCH                1  USD            195  1INCHUSD    1663718400   \n",
      "4     1INCH                1  USD            195  1INCHUSD    1663804800   \n",
      "...     ...              ...  ...            ...       ...           ...   \n",
      "1744    ZRX              213  USD            195    ZRXUSD    1663804800   \n",
      "1745    ZRX              213  USD            195    ZRXUSD    1663891200   \n",
      "1746    ZRX              213  XBT            202    ZRXXBT    1663718400   \n",
      "1747    ZRX              213  XBT            202    ZRXXBT    1663804800   \n",
      "1748    ZRX              213  XBT            202    ZRXXBT    1663891200   \n",
      "\n",
      "            date        open        high         low       close        vwap  \\\n",
      "0     2022-09-21       0.601       0.612       0.568       0.574       0.582   \n",
      "1     2022-09-22       0.581       0.606       0.581       0.603       0.587   \n",
      "2     2022-09-23       0.603       0.628       0.602       0.614       0.611   \n",
      "3     2022-09-21       0.604       0.608       0.554       0.563       0.582   \n",
      "4     2022-09-22       0.562       0.597       0.560       0.595       0.583   \n",
      "...          ...         ...         ...         ...         ...         ...   \n",
      "1744  2022-09-22       0.260       0.276       0.260       0.275       0.271   \n",
      "1745  2022-09-23       0.276       0.282       0.268       0.270       0.270   \n",
      "1746  2022-09-21  0.00001420  0.00001432  0.00001372  0.00001394  0.00001396   \n",
      "1747  2022-09-22  0.00001403  0.00001441  0.00001403  0.00001424  0.00001426   \n",
      "1748  2022-09-23  0.00001431  0.00001452  0.00001423  0.00001445  0.00001440   \n",
      "\n",
      "              volume count  \n",
      "0     33288.44973269    36  \n",
      "1      6090.11206269    53  \n",
      "2      8922.55125193   103  \n",
      "3     26788.82000182   483  \n",
      "4      9624.23386405   165  \n",
      "...              ...   ...  \n",
      "1744  21963.55058021    41  \n",
      "1745  47090.61921972    31  \n",
      "1746  29028.93804485   159  \n",
      "1747   3349.72802162    51  \n",
      "1748   1505.57306117    62  \n",
      "\n",
      "[1749 rows x 14 columns]\n"
     ]
    }
   ],
   "source": [
    "ohlcurl = 'https://api.kraken.com/0/public/OHLC?'\n",
    "unixtime = str(end_date_unixtimestamp)\n",
    "interval = str(1440)\n",
    "concatohlcurl = ''\n",
    "\n",
    "dataframe_ohlc = pd.DataFrame(columns=('from','indexvertexfrom','to','indexvertexto','altname','unixtimestamp','date','open','high','low','close','vwap','volume','count'))\n",
    "\n",
    "j = 0\n",
    "\n",
    "for altname in dataframe_pairs['altname']:\n",
    "    \n",
    "    concatohlcurl = ohlcurl +'interval=' + interval + '&since=' + unixtime + '&pair=' + altname\n",
    "    \n",
    "    #print(altname+'-'+concatohlcurl)\n",
    "\n",
    "    \n",
    "    #print(concatohlcurl)\n",
    "    \n",
    "    ohlc = requests.get(concatohlcurl)\n",
    "    tradesdata = ohlc.text\n",
    "    json_trades = json.loads(tradesdata)\n",
    "        \n",
    "    \n",
    "    try:\n",
    "        trades = json_trades['result'][altname]\n",
    "    except:\n",
    "        trades = ''\n",
    "    \n",
    "    #print(trades)\n",
    "    \n",
    "    for trade in trades:\n",
    "        \n",
    "        #print(trade)\n",
    "        \n",
    "        try:\n",
    "            pairfrom = dataframe_pairs['from'].loc[dataframe_pairs['altname']==altname].iloc[0]\n",
    "            indexfrom = dataframe_pairs['indexvertexfrom'].loc[dataframe_pairs['altname']==altname].iloc[0]\n",
    "\n",
    "        except:\n",
    "            pairfrom = ''\n",
    "        \n",
    "        try:\n",
    "            pairto = dataframe_pairs['to'].loc[dataframe_pairs['altname']==altname].iloc[0]\n",
    "            indexto = dataframe_pairs['indexvertexto'].loc[dataframe_pairs['altname']==altname].iloc[0]\n",
    "        except:\n",
    "            pairto = ''\n",
    "        \n",
    "        unixtimestamp = str(trade[0])\n",
    "        convertedunixtimestampintodate = dt.utcfromtimestamp(trade[0]).strftime('%Y-%m-%d')\n",
    "        open = trade[1]\n",
    "        high = trade[2]\n",
    "        low = trade[3]\n",
    "        close = trade[4]\n",
    "        vwap = trade[5]\n",
    "        volume = trade[6]\n",
    "        count = str(trade[7])\n",
    "        \n",
    "        dataframe_ohlc.loc[j] = pairfrom,indexfrom,pairto,indexto,altname,unixtimestamp,convertedunixtimestampintodate,open,high,low,close,vwap,volume,count\n",
    "        \n",
    "        j = j + 1        \n",
    "\n",
    "print(dataframe_ohlc)\n",
    "\n",
    "#save dataframe_ohlc to csv\n",
    "dataframe_ohlc.to_csv('ohlctrades.csv',index=False)"
   ]
  },
  {
   "cell_type": "code",
   "execution_count": null,
   "id": "8c4073fc",
   "metadata": {},
   "outputs": [],
   "source": []
  }
 ],
 "metadata": {
  "kernelspec": {
   "display_name": "Python 3 (ipykernel)",
   "language": "python",
   "name": "python3"
  },
  "language_info": {
   "codemirror_mode": {
    "name": "ipython",
    "version": 3
   },
   "file_extension": ".py",
   "mimetype": "text/x-python",
   "name": "python",
   "nbconvert_exporter": "python",
   "pygments_lexer": "ipython3",
   "version": "3.9.12"
  }
 },
 "nbformat": 4,
 "nbformat_minor": 5
}
