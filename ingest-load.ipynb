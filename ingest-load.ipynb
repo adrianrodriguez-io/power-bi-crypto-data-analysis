{
 "cells": [
  {
   "cell_type": "markdown",
   "id": "899a85f1",
   "metadata": {},
   "source": [
    "#Ingest and load python jupyter notebook script\n",
    "\n",
    "1. Imports\n",
    "2. Currency pairs data\n",
    "3. Trading dates (from, to)\n",
    "4. OHLC trades data. "
   ]
  },
  {
   "cell_type": "code",
   "execution_count": null,
   "id": "cbabdb2b",
   "metadata": {},
   "outputs": [],
   "source": [
    "##1.Imports"
   ]
  },
  {
   "cell_type": "code",
   "execution_count": 120,
   "id": "8d502a41",
   "metadata": {},
   "outputs": [],
   "source": [
    "import requests\n",
    "import json\n",
    "import pandas as pd\n",
    "import datetime\n",
    "from datetime import date\n",
    "from datetime import datetime as dt"
   ]
  },
  {
   "cell_type": "code",
   "execution_count": null,
   "id": "03328fb2",
   "metadata": {},
   "outputs": [],
   "source": [
    "##2. Currency pairs data"
   ]
  },
  {
   "cell_type": "code",
   "execution_count": 109,
   "id": "20b85a97",
   "metadata": {},
   "outputs": [
    {
     "name": "stdout",
     "output_type": "stream",
     "text": [
      "     altname    wsname  indexofslash  from   to quote\n",
      "2    AAVEAUD  AAVE/AUD             4  AAVE  AUD  ZAUD\n",
      "12    ADAAUD   ADA/AUD             3   ADA  AUD  ZAUD\n",
      "56   ATOMAUD  ATOM/AUD             4  ATOM  AUD  ZAUD\n",
      "83    BCHAUD   BCH/AUD             3   BCH  AUD  ZAUD\n",
      "147   DOTAUD   DOT/AUD             3   DOT  AUD  ZAUD\n",
      "173   ETHAUD   ETH/AUD             3   ETH  AUD  ZAUD\n",
      "181   EURAUD   EUR/AUD             3   EUR  AUD  ZAUD\n",
      "196   FILAUD   FIL/AUD             3   FIL  AUD  ZAUD\n",
      "231   GRTAUD   GRT/AUD             3   GRT  AUD  ZAUD\n",
      "283   KSMAUD   KSM/AUD             3   KSM  AUD  ZAUD\n",
      "294  LINKAUD  LINK/AUD             4  LINK  AUD  ZAUD\n",
      "312   LTCAUD   LTC/AUD             3   LTC  AUD  ZAUD\n",
      "464   SNXAUD   SNX/AUD             3   SNX  AUD  ZAUD\n",
      "523  USDCAUD  USDC/AUD             4  USDC  AUD  ZAUD\n",
      "529  USDTAUD  USDT/AUD             4  USDT  AUD  ZAUD\n",
      "550   XBTAUD   XBT/AUD             3   XBT  AUD  ZAUD\n",
      "582   XRPAUD   XRP/AUD             3   XRP  AUD  ZAUD\n",
      "588   XTZAUD   XTZ/AUD             3   XTZ  AUD  ZAUD\n",
      "601   XLMAUD   XLM/AUD             3   XLM  AUD  ZAUD\n",
      "616   YFIAUD   YFI/AUD             3   YFI  AUD  ZAUD\n"
     ]
    }
   ],
   "source": [
    "tradableassetpairs = 'https://api.kraken.com/0/public/AssetPairs'\n",
    "response_pairs = requests.get(tradableassetpairs)\n",
    "data = response_pairs.text\n",
    "json_pairs = json.loads(data)\n",
    "pairs = json_pairs['result']\n",
    "\n",
    "#print(pairs)\n",
    "\n",
    "#array_pairs = pd.DataFrame(columns=('altname','wsname','indexofslash','from','to','quote'))\n",
    "\n",
    "i = 0\n",
    "\n",
    "for pair in pairs.values():\n",
    "    indexofslash = pair.get('wsname').index('/')\n",
    "    array_pairs.loc[i] = pair.get('altname'),pair.get('wsname'),indexofslash,pair.get('wsname')[:indexofslash],pair.get('wsname')[indexofslash+1:],pair.get('quote')\n",
    "    i = i + 1\n",
    "\n",
    "\n",
    "#Row count\n",
    "print('Row counts: '+len(array_pairs.index))\n",
    "\n",
    "#Filter array_pairs by quote (ZUSD, ZEUR, ZAUD, ZGBP)\n",
    "quotefilter = 'ZAUD'\n",
    "array_pairs = array_pairs.loc[array_pairs['quote'] == quotefilter]\n",
    "\n",
    "#Print DataFrame\n",
    "print(array_pairs)\n",
    "\n",
    "#Save array_pairs dataframe into csv\n",
    "array_pairs.to_csv('currency_pairs.csv',index=False)\n",
    "    "
   ]
  },
  {
   "cell_type": "code",
   "execution_count": null,
   "id": "c3e90e7e",
   "metadata": {},
   "outputs": [],
   "source": [
    "##3.Trading dates (from, to)"
   ]
  },
  {
   "cell_type": "code",
   "execution_count": 128,
   "id": "566de8d7",
   "metadata": {},
   "outputs": [
    {
     "name": "stdout",
     "output_type": "stream",
     "text": [
      "Date From: 2022-09-15 00:00:00,Date To: 2022-09-22\n"
     ]
    }
   ],
   "source": [
    "#current date\n",
    "start_date = str(date.today())\n",
    "#Set days back for retrieving trades data\n",
    "days_minus = 7 #a week\n",
    "\n",
    "date_formated = datetime.datetime.strptime(start_date, \"%Y-%m-%d\")\n",
    "\n",
    "#get days ago date_formated\n",
    "end_date = date_formated - datetime.timedelta(days=days_minus)\n",
    "\n",
    "#print end_date unix timestamp\n",
    "#print(end_date.timestamp())\n",
    "end_date_unixtimestamp = end_date.timestamp()\n",
    "\n",
    "print('Date From: '+str(end_date)+', Date To: '+str(start_date))"
   ]
  },
  {
   "cell_type": "code",
   "execution_count": null,
   "id": "c9dc6d2f",
   "metadata": {},
   "outputs": [],
   "source": [
    "##4. OHLC trades data."
   ]
  },
  {
   "cell_type": "code",
   "execution_count": 129,
   "id": "acfc7f51",
   "metadata": {},
   "outputs": [
    {
     "name": "stdout",
     "output_type": "stream",
     "text": [
      "     from   to  altname unixtimestamp        date    open    high     low  \\\n",
      "0    AAVE  AUD  AAVEAUD    1663200000  2022-09-15  123.46  123.46  121.12   \n",
      "1    AAVE  AUD  AAVEAUD    1663286400  2022-09-16  117.89  119.12  116.41   \n",
      "2    AAVE  AUD  AAVEAUD    1663372800  2022-09-17  119.41  120.80  118.35   \n",
      "3    AAVE  AUD  AAVEAUD    1663459200  2022-09-18  120.55  121.19  106.99   \n",
      "4    AAVE  AUD  AAVEAUD    1663545600  2022-09-19  108.66  114.78  106.32   \n",
      "..    ...  ...      ...           ...         ...     ...     ...     ...   \n",
      "147   YFI  AUD   YFIAUD    1663459200  2022-09-18   12340   12340   12211   \n",
      "148   YFI  AUD   YFIAUD    1663545600  2022-09-19   12211   12211   12211   \n",
      "149   YFI  AUD   YFIAUD    1663632000  2022-09-20   12211   12211   12211   \n",
      "150   YFI  AUD   YFIAUD    1663718400  2022-09-21   12211   12211   12211   \n",
      "151   YFI  AUD   YFIAUD    1663804800  2022-09-22   12211   12211   12211   \n",
      "\n",
      "      close    vwap      volume count  \n",
      "0    121.12  121.49  2.29695286     6  \n",
      "1    118.13  118.62  7.68380904    19  \n",
      "2    120.80  118.55  4.01723517     4  \n",
      "3    108.87  110.66  3.56052181     9  \n",
      "4    114.78  109.72  3.06266126    16  \n",
      "..      ...     ...         ...   ...  \n",
      "147   12211   12274  0.00589412     2  \n",
      "148   12211       0  0.00000000     0  \n",
      "149   12211       0  0.00000000     0  \n",
      "150   12211       0  0.00000000     0  \n",
      "151   12211       0  0.00000000     0  \n",
      "\n",
      "[152 rows x 12 columns]\n"
     ]
    }
   ],
   "source": [
    "ohlcurl = 'https://api.kraken.com/0/public/OHLC?'\n",
    "unixtime = str(end_date_unixtimestamp)\n",
    "interval = str(1440)\n",
    "concatohlcurl = ''\n",
    "\n",
    "dataframe_ohlc = pd.DataFrame(columns=('from','to','altname','unixtimestamp','date','open','high','low','close','vwap','volume','count'))\n",
    "\n",
    "j = 0\n",
    "\n",
    "for altname in array_pairs['altname']:\n",
    "    \n",
    "    concatohlcurl = ohlcurl +'interval=' + interval + '&since=' + unixtime + '&pair=' + altname\n",
    "    \n",
    "    #print(altname+'-'+concatohlcurl)\n",
    "\n",
    "    \n",
    "    #print(concatohlcurl)\n",
    "    \n",
    "    ohlc = requests.get(concatohlcurl)\n",
    "    tradesdata = ohlc.text\n",
    "    json_trades = json.loads(tradesdata)\n",
    "        \n",
    "    #print(json_trades)\n",
    "    \n",
    "    try:\n",
    "        trades = json_trades['result'][altname]\n",
    "    except:\n",
    "        trades = ''\n",
    "    \n",
    "    #print(trades)\n",
    "    \n",
    "    for trade in trades:\n",
    "        \n",
    "        #print(trade)\n",
    "        \n",
    "        try:\n",
    "            pairfrom = array_pairs['from'].loc[array_pairs['altname']==altname].iloc[0]\n",
    "        except:\n",
    "            pairfrom = ''\n",
    "        \n",
    "        try:\n",
    "            pairto = array_pairs['to'].loc[array_pairs['altname']==altname].iloc[0]\n",
    "        except:\n",
    "            pairto = ''\n",
    "        \n",
    "        unixtimestamp = str(trade[0])\n",
    "        convertedunixtimestampintodate = dt.utcfromtimestamp(trade[0]).strftime('%Y-%m-%d')\n",
    "        open = trade[1]\n",
    "        high = trade[2]\n",
    "        low = trade[3]\n",
    "        close = trade[4]\n",
    "        vwap = trade[5]\n",
    "        volume = trade[6]\n",
    "        count = str(trade[7])\n",
    "        \n",
    "        #print(pairfrom+'-'+pairto+'-'+altname+'-'+unixtimestamp+'-'+convertedunixtimestampintodate+'-'+open+'-'+high+'-'+low+'-'+close+'-'+vwap+'-'+volume+'-'+count)\n",
    "        dataframe_ohlc.loc[j] = pairfrom,pairto,altname,unixtimestamp,convertedunixtimestampintodate,open,high,low,close,vwap,volume,count\n",
    "        j = j + 1        \n",
    "\n",
    "print(dataframe_ohlc)\n",
    "\n",
    "#save dataframe_ohlc to csv\n",
    "dataframe_ohlc.to_csv('ohlctrades.csv',index=False)"
   ]
  }
 ],
 "metadata": {
  "kernelspec": {
   "display_name": "Python 3 (ipykernel)",
   "language": "python",
   "name": "python3"
  },
  "language_info": {
   "codemirror_mode": {
    "name": "ipython",
    "version": 3
   },
   "file_extension": ".py",
   "mimetype": "text/x-python",
   "name": "python",
   "nbconvert_exporter": "python",
   "pygments_lexer": "ipython3",
   "version": "3.9.12"
  }
 },
 "nbformat": 4,
 "nbformat_minor": 5
}
